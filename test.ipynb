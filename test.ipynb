{
 "cells": [
  {
   "cell_type": "code",
   "execution_count": 6,
   "metadata": {},
   "outputs": [],
   "source": [
    "import sys\n",
    "import math\n",
    "from typing import Dict\n",
    "\n",
    "\n",
    "order: Dict[int, int] = {}\n",
    "sorted_order: Dict[int, int] = {}\n",
    "\n",
    "while True:\n",
    "    for i in range(8):\n",
    "        try:\n",
    "            mountain_h = int(input().strip()) \n",
    "            order[i] = mountain_h\n",
    "        except ValueError:\n",
    "            print(\"Invalid input, please enter an integer value for the mountain height.\", file=sys.stderr)\n",
    "            continue\n",
    "\n",
    "    \n",
    "    sorted_order = dict(sorted(order.items(), key=lambda item: item[1], reverse=True))\n",
    "\n",
    "    for key in sorted_order.keys():\n",
    "        print(key)\n",
    "\n",
    "\n",
    "        "
   ]
  }
 ],
 "metadata": {
  "kernelspec": {
   "display_name": "Python 3",
   "language": "python",
   "name": "python3"
  },
  "language_info": {
   "codemirror_mode": {
    "name": "ipython",
    "version": 3
   },
   "file_extension": ".py",
   "mimetype": "text/x-python",
   "name": "python",
   "nbconvert_exporter": "python",
   "pygments_lexer": "ipython3",
   "version": "3.12.2"
  }
 },
 "nbformat": 4,
 "nbformat_minor": 2
}
